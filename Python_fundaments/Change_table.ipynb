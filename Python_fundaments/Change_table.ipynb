--- Importar tabla nueva desde BigQuery

import pandas as pd
## IMPORTAR UNA NUEVA TABLA DESDE BIGQUERY

# Reemplaza con tu ID de proyecto y el nombre de la nueva tabla
project_id = 'riesgo-relativo-429614'  # Asegúrate de que este sea tu ID de proyecto real
dataset_id = 'Dataset'  # Nombre del conjunto de datos
new_table_id = 'user_info_flag'  # Nombre de la nueva tabla

# Define the table ID to be used in the query
flag_table_id = new_table_id # Assign the value of new_table_id to flag_table_id

# Consulta SQL para seleccionar los datos de la nueva tabla
flag_query = f'SELECT * FROM `{project_id}.{dataset_id}.{flag_table_id}`'

# Cargar los datos de la nueva tabla en un nuevo DataFrame
flag_df = pd.read_gbq(flag_query, project_id=project_id)

# Ahora new_df contiene los datos de la nueva tabla en un DataFrame
